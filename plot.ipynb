{
 "cells": [
  {
   "cell_type": "markdown",
   "id": "3e80fb26",
   "metadata": {},
   "source": [
    "Install folium if not already installed\n",
    "pip install folium"
   ]
  },
  {
   "cell_type": "code",
   "execution_count": null,
   "id": "19db0909",
   "metadata": {},
   "outputs": [],
   "source": [
    "import folium"
   ]
  },
  {
   "cell_type": "code",
   "execution_count": null,
   "id": "48bd956a",
   "metadata": {
    "lines_to_next_cell": 1
   },
   "outputs": [],
   "source": [
    "import geopandas as gpd\n",
    "import pandas as pd\n",
    "import matplotlib.pyplot as plt\n",
    "from shapely.geometry import Point\n",
    "import matplotlib.patches as mpatches"
   ]
  },
  {
   "cell_type": "code",
   "execution_count": null,
   "id": "f58a8dfb",
   "metadata": {},
   "outputs": [],
   "source": [
    "def split_coordinates(file_path=\"parsedPowerPlant/DE_power_plant_coords.csv\"):\n",
    "    df = pd.read_csv(file_path)\n",
    "    # Split into lantitude and longtitude and round with 4 decimal places\n",
    "    df[['la', 'lo']] = df['coordinate'].str.split(',', expand=True).astype(float).round(4)\n",
    "    # print(df.head())\n",
    "    df.to_csv(\"DE_power_plant_coords_split_rounded.csv\", index=False)"
   ]
  },
  {
   "cell_type": "code",
   "execution_count": null,
   "id": "6080c1ef",
   "metadata": {
    "lines_to_next_cell": 1
   },
   "outputs": [],
   "source": [
    "def read_csv_into_df(file_path=\"DE_power_plant_coords_split_rounded.csv\"):\n",
    "    df = pd.read_csv(file_path, usecols=[\"coordinate\", \"resourceName\"])\\\n",
    "       .assign(lat=lambda x: x['coordinate'].str.split(',', expand=True)[0].astype(float),\n",
    "               lon=lambda x: x['coordinate'].str.split(',', expand=True)[1].astype(float))\\\n",
    "       .rename(columns={\"resourceName\": \"name\"})[[\"lat\", \"lon\", \"name\"]]\n",
    "    print(df.head())\n",
    "\n",
    "    return df"
   ]
  },
  {
   "cell_type": "markdown",
   "id": "fa581c69",
   "metadata": {},
   "source": [
    "split_coordinates()\n",
    "read_csv_into_df()"
   ]
  },
  {
   "cell_type": "code",
   "execution_count": null,
   "id": "c6728ede",
   "metadata": {},
   "outputs": [],
   "source": [
    "# --- 1️⃣ Load LAU shapefile ---\n",
    "lau = gpd.read_file(\"data/lau2024/LAU_RG_01M_2024_4326.shp\")\n",
    "lau_de = lau[lau[\"CNTR_CODE\"] == \"DE\"].copy()  # Only Germany"
   ]
  },
  {
   "cell_type": "code",
   "execution_count": null,
   "id": "6200dc92",
   "metadata": {},
   "outputs": [],
   "source": [
    "# Ensure CRS is consistent\n",
    "lau_de = lau_de.to_crs(epsg=4326)"
   ]
  },
  {
   "cell_type": "code",
   "execution_count": null,
   "id": "b6433fcb",
   "metadata": {},
   "outputs": [],
   "source": [
    "# --- 2️⃣ Load power plant coordinates ---\n",
    "plants = read_csv_into_df()\n",
    "# plants = pd.DataFrame({\n",
    "#     \"name\": [\"Mainz KW2\", \"Weisweiler\", \"Munich HKW Süd\", \"BASF Süd_GT1\", \"Witznau Hydropower\"],\n",
    "#     \"lat\": [50.027, 50.819, 48.096, 49.51373, 47.6876],\n",
    "#     \"lon\": [8.241, 6.288, 11.547, 8.431556, 8.2513]\n",
    "# })\n",
    "gdf_plants = gpd.GeoDataFrame(\n",
    "    plants,\n",
    "    geometry=gpd.points_from_xy(plants.lon, plants.lat),\n",
    "    crs=\"EPSG:4326\"\n",
    ")"
   ]
  },
  {
   "cell_type": "code",
   "execution_count": null,
   "id": "363017bd",
   "metadata": {},
   "outputs": [],
   "source": [
    "# --- 3️⃣ Manual counting: assign each plant to the LAU polygon ---\n",
    "lau_de[\"plant_count\"] = 0"
   ]
  },
  {
   "cell_type": "code",
   "execution_count": null,
   "id": "1d4a5d81",
   "metadata": {},
   "outputs": [],
   "source": [
    "for idx, plant in gdf_plants.iterrows():\n",
    "    matches = lau_de.contains(plant.geometry)\n",
    "    lau_de.loc[matches, \"plant_count\"] += 1"
   ]
  },
  {
   "cell_type": "code",
   "execution_count": null,
   "id": "bbc1f031",
   "metadata": {},
   "outputs": [],
   "source": [
    "# Ensure integer type\n",
    "lau_de[\"plant_count\"] = lau_de[\"plant_count\"].astype(int)"
   ]
  },
  {
   "cell_type": "code",
   "execution_count": null,
   "id": "ada68bb7",
   "metadata": {
    "lines_to_next_cell": 1
   },
   "outputs": [],
   "source": [
    "print(sum(lau_de[\"plant_count\"]))"
   ]
  },
  {
   "cell_type": "code",
   "execution_count": null,
   "id": "f1a45825",
   "metadata": {
    "lines_to_next_cell": 1
   },
   "outputs": [],
   "source": [
    "# --- 4️⃣ Categorize LAUs ---\n",
    "def categorize_plants(n):\n",
    "    if n == 0:\n",
    "        return \"0 plants\"\n",
    "    elif n == 1:\n",
    "        return \"1 plant\"\n",
    "    elif 2 <= n <= 4:\n",
    "        return \"2-4 plants\"\n",
    "    else:\n",
    "        return \">4 plants\""
   ]
  },
  {
   "cell_type": "code",
   "execution_count": null,
   "id": "571a2ca7",
   "metadata": {},
   "outputs": [],
   "source": [
    "lau_de[\"plant_category\"] = lau_de[\"plant_count\"].apply(categorize_plants)"
   ]
  },
  {
   "cell_type": "code",
   "execution_count": null,
   "id": "bdbfd5d2",
   "metadata": {},
   "outputs": [],
   "source": [
    "# --- 5️⃣ Color mapping ---\n",
    "color_dict = {\n",
    "    \"0 plants\": \"#FFDAB9\",       # light orange\n",
    "    \"1 plant\": \"#90EE90\",        # light green\n",
    "    \"2-4 plants\": \"#66C2A5\",     # medium green\n",
    "    \">4 plants\": \"#006400\"       # dark green\n",
    "}"
   ]
  },
  {
   "cell_type": "code",
   "execution_count": null,
   "id": "5ef38fd3",
   "metadata": {},
   "outputs": [],
   "source": [
    "# --- 6️⃣ Plotting ---\n",
    "fig, ax = plt.subplots(figsize=(10, 12))"
   ]
  },
  {
   "cell_type": "code",
   "execution_count": null,
   "id": "c53e514c",
   "metadata": {},
   "outputs": [],
   "source": [
    "# Plot LAU polygons colored by category\n",
    "lau_de.plot(\n",
    "    ax=ax,\n",
    "    color=lau_de[\"plant_category\"].map(color_dict),\n",
    "    edgecolor=\"saddlebrown\",\n",
    "    linewidth=0.4\n",
    ")"
   ]
  },
  {
   "cell_type": "code",
   "execution_count": null,
   "id": "f6ac6616",
   "metadata": {},
   "outputs": [],
   "source": [
    "# Draw Germany border on top\n",
    "lau_de.boundary.plot(ax=ax, color=\"saddlebrown\", linewidth=1)"
   ]
  },
  {
   "cell_type": "code",
   "execution_count": null,
   "id": "e4e6dff3",
   "metadata": {},
   "outputs": [],
   "source": [
    "# Plot power plants\n",
    "gdf_plants.plot(ax=ax, color=\"red\", markersize=30, zorder=5)"
   ]
  },
  {
   "cell_type": "markdown",
   "id": "d11ab161",
   "metadata": {
    "lines_to_next_cell": 2
   },
   "source": [
    "Add labels for plants\n",
    "for x, y, label in zip(gdf_plants.geometry.x, gdf_plants.geometry.y, gdf_plants[\"name\"]):\n",
    "    ax.text(x + 0.05, y, label, fontsize=9, zorder=6, color=\"black\")"
   ]
  },
  {
   "cell_type": "code",
   "execution_count": null,
   "id": "a230e3ba",
   "metadata": {},
   "outputs": [],
   "source": [
    "# Add custom legend\n",
    "legend_handles = [mpatches.Patch(color=c, label=l) for l, c in color_dict.items()]\n",
    "ax.legend(handles=legend_handles, fontsize=8,title=\"Number of Plants per LAU\", loc=\"lower right\")"
   ]
  },
  {
   "cell_type": "code",
   "execution_count": null,
   "id": "92019d71",
   "metadata": {},
   "outputs": [],
   "source": []
  },
  {
   "cell_type": "code",
   "execution_count": null,
   "id": "0c0aad1f",
   "metadata": {},
   "outputs": [],
   "source": [
    "# Final touches\n",
    "ax.set_title(\"Germany — LAU Regions Categorized by Power Plant Count\", fontsize=16)\n",
    "ax.set_axis_off()\n",
    "plt.savefig(\"DE_power_plant.pdf\")\n",
    "plt.show()"
   ]
  }
 ],
 "metadata": {
  "jupytext": {
   "cell_metadata_filter": "-all",
   "executable": "/usr/bin/env python3",
   "main_language": "python",
   "notebook_metadata_filter": "-all"
  }
 },
 "nbformat": 4,
 "nbformat_minor": 5
}
