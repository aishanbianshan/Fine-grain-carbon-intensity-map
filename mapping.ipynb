{
 "cells": [
  {
   "cell_type": "markdown",
   "id": "183a4e1e",
   "metadata": {},
   "source": [
    "Install folium if not already installed\n",
    "pip install folium"
   ]
  },
  {
   "cell_type": "code",
   "execution_count": null,
   "id": "87c1e3cb",
   "metadata": {},
   "outputs": [],
   "source": [
    "import folium"
   ]
  },
  {
   "cell_type": "code",
   "execution_count": null,
   "id": "c743c1cb",
   "metadata": {
    "lines_to_next_cell": 1
   },
   "outputs": [],
   "source": [
    "import geopandas as gpd\n",
    "import pandas as pd\n",
    "import matplotlib.pyplot as plt\n",
    "from shapely.geometry import Point\n",
    "import matplotlib.patches as mpatches"
   ]
  },
  {
   "cell_type": "code",
   "execution_count": null,
   "id": "71db9968",
   "metadata": {},
   "outputs": [],
   "source": [
    "def split_coordinates(file_path=\"parsedPowerPlant/DE_power_plant_coords.csv\"):\n",
    "    df = pd.read_csv(file_path)\n",
    "    # Split into lantitude and longtitude and round with 4 decimal places\n",
    "    df[['la', 'lo']] = df['coordinate'].str.split(',', expand=True).astype(float).round(4)\n",
    "    # print(df.head())\n",
    "    df.to_csv(\"DE_power_plant_coords_split_rounded.csv\", index=False)"
   ]
  },
  {
   "cell_type": "code",
   "execution_count": null,
   "id": "4a6f60fa",
   "metadata": {
    "lines_to_next_cell": 1
   },
   "outputs": [],
   "source": [
    "def read_csv_into_df(file_path=\"DE_power_plant_coords_split_rounded.csv\"):\n",
    "    df = pd.read_csv(file_path, usecols=[\"coordinate\", \"resourceName\"])\\\n",
    "       .assign(lat=lambda x: x['coordinate'].str.split(',', expand=True)[0].astype(float),\n",
    "               lon=lambda x: x['coordinate'].str.split(',', expand=True)[1].astype(float))\\\n",
    "       .rename(columns={\"resourceName\": \"name\"})[[\"lat\", \"lon\", \"name\"]]\n",
    "    print(df.head())\n",
    "\n",
    "    return df"
   ]
  },
  {
   "cell_type": "markdown",
   "id": "e800f022",
   "metadata": {},
   "source": [
    "split_coordinates()\n",
    "read_csv_into_df()"
   ]
  },
  {
   "cell_type": "code",
   "execution_count": null,
   "id": "024d04d8",
   "metadata": {},
   "outputs": [],
   "source": [
    "# --- 1️⃣ Load LAU shapefile ---\n",
    "lau = gpd.read_file(\"data/lau2024/LAU_RG_01M_2024_4326.shp\")\n",
    "lau_de = lau[lau[\"CNTR_CODE\"] == \"DE\"].copy()  # Only Germany"
   ]
  },
  {
   "cell_type": "code",
   "execution_count": null,
   "id": "5a7000aa",
   "metadata": {},
   "outputs": [],
   "source": [
    "# Ensure CRS is consistent\n",
    "lau_de = lau_de.to_crs(epsg=4326)"
   ]
  },
  {
   "cell_type": "code",
   "execution_count": null,
   "id": "f2fa4194",
   "metadata": {},
   "outputs": [],
   "source": [
    "# --- 2️⃣ Load power plant coordinates ---\n",
    "plants = read_csv_into_df()\n",
    "# plants = pd.DataFrame({\n",
    "#     \"name\": [\"Mainz KW2\", \"Weisweiler\", \"Munich HKW Süd\", \"BASF Süd_GT1\", \"Witznau Hydropower\"],\n",
    "#     \"lat\": [50.027, 50.819, 48.096, 49.51373, 47.6876],\n",
    "#     \"lon\": [8.241, 6.288, 11.547, 8.431556, 8.2513]\n",
    "# })\n",
    "gdf_plants = gpd.GeoDataFrame(\n",
    "    plants,\n",
    "    geometry=gpd.points_from_xy(plants.lon, plants.lat),\n",
    "    crs=\"EPSG:4326\"\n",
    ")"
   ]
  },
  {
   "cell_type": "code",
   "execution_count": null,
   "id": "24c2809b",
   "metadata": {},
   "outputs": [],
   "source": [
    "# --- 3️⃣ Manual counting: assign each plant to the LAU polygon ---\n",
    "lau_de[\"plant_count\"] = 0"
   ]
  },
  {
   "cell_type": "code",
   "execution_count": null,
   "id": "45018c1e",
   "metadata": {},
   "outputs": [],
   "source": [
    "for idx, plant in gdf_plants.iterrows():\n",
    "    matches = lau_de.contains(plant.geometry)\n",
    "    lau_de.loc[matches, \"plant_count\"] += 1"
   ]
  },
  {
   "cell_type": "code",
   "execution_count": null,
   "id": "b3e420ef",
   "metadata": {},
   "outputs": [],
   "source": [
    "# Ensure integer type\n",
    "lau_de[\"plant_count\"] = lau_de[\"plant_count\"].astype(int)"
   ]
  },
  {
   "cell_type": "code",
   "execution_count": null,
   "id": "3790f83e",
   "metadata": {
    "lines_to_next_cell": 1
   },
   "outputs": [],
   "source": [
    "print(sum(lau_de[\"plant_count\"]))"
   ]
  },
  {
   "cell_type": "code",
   "execution_count": null,
   "id": "5c1acbe2",
   "metadata": {
    "lines_to_next_cell": 1
   },
   "outputs": [],
   "source": [
    "# --- 4️⃣ Categorize LAUs ---\n",
    "def categorize_plants(n):\n",
    "    if n == 0:\n",
    "        return \"0 plants\"\n",
    "    elif n == 1:\n",
    "        return \"1 plant\"\n",
    "    elif 2 <= n <= 4:\n",
    "        return \"2-4 plants\"\n",
    "    else:\n",
    "        return \">4 plants\""
   ]
  },
  {
   "cell_type": "code",
   "execution_count": null,
   "id": "ac9927a7",
   "metadata": {},
   "outputs": [],
   "source": [
    "lau_de[\"plant_category\"] = lau_de[\"plant_count\"].apply(categorize_plants)"
   ]
  },
  {
   "cell_type": "code",
   "execution_count": null,
   "id": "1da8e0b0",
   "metadata": {},
   "outputs": [],
   "source": [
    "# --- 5️⃣ Color mapping ---\n",
    "color_dict = {\n",
    "    \"0 plants\": \"#FFDAB9\",       # light orange\n",
    "    \"1 plant\": \"#90EE90\",        # light green\n",
    "    \"2-4 plants\": \"#66C2A5\",     # medium green\n",
    "    \">4 plants\": \"#006400\"       # dark green\n",
    "}"
   ]
  },
  {
   "cell_type": "code",
   "execution_count": null,
   "id": "dc23731e",
   "metadata": {},
   "outputs": [],
   "source": [
    "# --- 6️⃣ Plotting ---\n",
    "fig, ax = plt.subplots(figsize=(10, 12))"
   ]
  },
  {
   "cell_type": "code",
   "execution_count": null,
   "id": "dc6b2318",
   "metadata": {},
   "outputs": [],
   "source": [
    "# Plot LAU polygons colored by category\n",
    "lau_de.plot(\n",
    "    ax=ax,\n",
    "    color=lau_de[\"plant_category\"].map(color_dict),\n",
    "    edgecolor=\"saddlebrown\",\n",
    "    linewidth=0.4\n",
    ")"
   ]
  },
  {
   "cell_type": "code",
   "execution_count": null,
   "id": "262e6fc9",
   "metadata": {},
   "outputs": [],
   "source": [
    "# Draw Germany border on top\n",
    "lau_de.boundary.plot(ax=ax, color=\"saddlebrown\", linewidth=1)"
   ]
  },
  {
   "cell_type": "code",
   "execution_count": null,
   "id": "51b6baea",
   "metadata": {},
   "outputs": [],
   "source": [
    "# Plot power plants\n",
    "gdf_plants.plot(ax=ax, color=\"red\", markersize=30, zorder=5)"
   ]
  },
  {
   "cell_type": "markdown",
   "id": "b773c2c4",
   "metadata": {
    "lines_to_next_cell": 2
   },
   "source": [
    "Add labels for plants\n",
    "for x, y, label in zip(gdf_plants.geometry.x, gdf_plants.geometry.y, gdf_plants[\"name\"]):\n",
    "    ax.text(x + 0.05, y, label, fontsize=9, zorder=6, color=\"black\")"
   ]
  },
  {
   "cell_type": "code",
   "execution_count": null,
   "id": "c15d25aa",
   "metadata": {},
   "outputs": [],
   "source": [
    "# Add custom legend\n",
    "legend_handles = [mpatches.Patch(color=c, label=l) for l, c in color_dict.items()]\n",
    "ax.legend(handles=legend_handles, fontsize=8,title=\"Number of Plants per LAU\", loc=\"lower right\")"
   ]
  },
  {
   "cell_type": "code",
   "execution_count": null,
   "id": "c662f20e",
   "metadata": {},
   "outputs": [],
   "source": []
  },
  {
   "cell_type": "code",
   "execution_count": null,
   "id": "5e81946c",
   "metadata": {},
   "outputs": [],
   "source": [
    "# Final touches\n",
    "ax.set_title(\"Germany — LAU Regions Categorized by Power Plant Count\", fontsize=16)\n",
    "ax.set_axis_off()\n",
    "plt.savefig(\"DE_power_plant.pdf\")\n",
    "plt.show()"
   ]
  },
  {
   "cell_type": "code",
   "execution_count": null,
   "id": "78d43536",
   "metadata": {
    "lines_to_next_cell": 2
   },
   "outputs": [],
   "source": []
  },
  {
   "cell_type": "markdown",
   "id": "0fd1c3f7",
   "metadata": {},
   "source": [
    "# --- 1️⃣ Load LAU shapefile ---\n",
    "lau = gpd.read_file(\"data/lau2024/LAU_RG_01M_2024_4326.shp\")\n",
    "lau_de = lau[lau[\"CNTR_CODE\"] == \"DE\"].copy()  # Filter Germany"
   ]
  },
  {
   "cell_type": "markdown",
   "id": "efec9c91",
   "metadata": {},
   "source": [
    "# --- 2️⃣ Load power plant coordinates ---\n",
    "plants = pd.DataFrame({\n",
    "    \"name\": [\"Mainz KW2\", \"Weisweiler\", \"Munich HKW Süd\", \"BASF Süd_GT1\", \"Witznau Hydropower\"],\n",
    "    \"lat\": [50.027, 50.819, 48.096, 49.51373, 47.6876],\n",
    "    \"lon\": [8.241, 6.288, 11.547, 8.431556, 8.2513]\n",
    "})\n",
    "gdf_plants = gpd.GeoDataFrame(\n",
    "    plants,\n",
    "    geometry=gpd.points_from_xy(plants.lon, plants.lat),\n",
    "    crs=\"EPSG:4326\"\n",
    ")"
   ]
  },
  {
   "cell_type": "markdown",
   "id": "7c77611e",
   "metadata": {},
   "source": [
    "# --- 3️⃣ Spatial join to assign plants to LAUs ---\n",
    "joined = gpd.sjoin(lau_de, gdf_plants, how=\"left\", predicate=\"contains\")\n",
    "counts = joined.groupby(\"GISCO_ID\").size().reset_index(name=\"plant_count\")\n",
    "lau_de = lau_de.merge(counts, on=\"GISCO_ID\", how=\"left\").fillna({\"plant_count\": 0})"
   ]
  },
  {
   "cell_type": "markdown",
   "id": "0c1b7fd9",
   "metadata": {},
   "source": [
    "# --- 4️⃣ Plotting ---\n",
    "fig, ax = plt.subplots(figsize=(12, 14))"
   ]
  },
  {
   "cell_type": "markdown",
   "id": "efdf80d2",
   "metadata": {},
   "source": [
    "# # Define custom colormap: light orange -> light green\n",
    "# cmap = mcolors.LinearSegmentedColormap.from_list(\"orange_green\", [\"#fdd49e\", \"#a1d99b\"])"
   ]
  },
  {
   "cell_type": "markdown",
   "id": "1ded8b86",
   "metadata": {},
   "source": [
    "# Plot LAU polygons with color shading\n",
    "lau_de.plot(\n",
    "    ax=ax,\n",
    "    column=\"plant_count\",\n",
    "    cmap=cmap,\n",
    "    edgecolor=\"saddlebrown\",  # dark brown outlines\n",
    "    linewidth=0.4,\n",
    "    legend=True,\n",
    "    legend_kwds={\"label\": \"Power Plant Count per LAU\"}\n",
    ")"
   ]
  },
  {
   "cell_type": "markdown",
   "id": "94f048f7",
   "metadata": {},
   "source": [
    "# Draw Germany border thicker on top\n",
    "lau_de.boundary.plot(ax=ax, color=\"saddlebrown\", linewidth=1)"
   ]
  },
  {
   "cell_type": "markdown",
   "id": "acbc2025",
   "metadata": {},
   "source": [
    "# Overlay power plant points\n",
    "gdf_plants.plot(ax=ax, color=\"red\", markersize=30, zorder=5)"
   ]
  },
  {
   "cell_type": "markdown",
   "id": "12db100e",
   "metadata": {},
   "source": [
    "# Add plant labels\n",
    "for x, y, label in zip(gdf_plants.geometry.x, gdf_plants.geometry.y, gdf_plants[\"name\"]):\n",
    "    ax.text(x + 0.05, y, label, fontsize=9, zorder=6, color=\"black\")"
   ]
  },
  {
   "cell_type": "markdown",
   "id": "0aaa3ede",
   "metadata": {},
   "source": [
    "# Final touches\n",
    "ax.set_title(\"Germany — LAU Regions Colored by Number of Power Plants\", fontsize=16)\n",
    "ax.set_axis_off()\n",
    "plt.show()"
   ]
  },
  {
   "cell_type": "code",
   "execution_count": null,
   "id": "91346b02",
   "metadata": {},
   "outputs": [],
   "source": []
  },
  {
   "cell_type": "markdown",
   "id": "0e15899b",
   "metadata": {},
   "source": [
    "##################### Adding points onto DE & ES maps  ###################\n",
    "# List of coordinates with names (Germany + Spain)\n",
    "power_plants = [\n",
    "    (\"Waldeck II\", 51.1678, 9.0470),\n",
    "    (\"Huntorf\", 53.18969, 8.40869),\n",
    "    (\"Irsching 4\", 48.767, 11.580),\n",
    "    (\"Bremen Mittelsbüren Block 4\", 53.12891, 8.68524),\n",
    "    (\"Töging\", 48.2505, 12.5849),\n",
    "    (\"Markersbach F\", 50.5176, 12.8804),\n",
    "    (\"Rostock\", 54.142799, 12.132865),\n",
    "    # Spain coordinates\n",
    "    (\"Centrale de Trillo\", 40.5240, -2.5140),\n",
    "    (\"Centrale de Almaraz\", 39.8362, -5.7810),\n",
    "    (\"Centrale de Ascó\", 41.3425, 0.6325)\n",
    "]"
   ]
  },
  {
   "cell_type": "markdown",
   "id": "972e0a0c",
   "metadata": {},
   "source": [
    "# Create a map centered roughly in Europe\n",
    "m = folium.Map(location=[50, 10], zoom_start=5)"
   ]
  },
  {
   "cell_type": "markdown",
   "id": "b644c4ea",
   "metadata": {},
   "source": [
    "# Add markers with popup labels\n",
    "for name, lat, lon in power_plants:\n",
    "    folium.Marker(location=[lat, lon], popup=name).add_to(m)"
   ]
  },
  {
   "cell_type": "markdown",
   "id": "d365a825",
   "metadata": {
    "lines_to_next_cell": 2
   },
   "source": [
    "coords = [[lat, lon] for _, lat, lon in power_plants]\n",
    "m.fit_bounds(coords)"
   ]
  },
  {
   "cell_type": "markdown",
   "id": "5c1fe80f",
   "metadata": {},
   "source": [
    "# Save the map to an HTML file\n",
    "m.save(\"power_plants_map_germany_spain.html\")"
   ]
  },
  {
   "cell_type": "markdown",
   "id": "5a0b5b89",
   "metadata": {},
   "source": [
    "print(\"Map saved as 'power_plants_map_germany_spain.html'. Open it in a browser to view.\")\n",
    "##################### Adding points onto DE & ES maps  ###################"
   ]
  }
 ],
 "metadata": {
  "jupytext": {
   "cell_metadata_filter": "-all",
   "executable": "/usr/bin/env python3",
   "main_language": "python",
   "notebook_metadata_filter": "-all"
  }
 },
 "nbformat": 4,
 "nbformat_minor": 5
}
